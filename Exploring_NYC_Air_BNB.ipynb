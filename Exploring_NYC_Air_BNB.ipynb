{
  "nbformat": 4,
  "nbformat_minor": 0,
  "metadata": {
    "colab": {
      "provenance": []
    },
    "kernelspec": {
      "name": "python3",
      "display_name": "Python 3"
    },
    "language_info": {
      "name": "python"
    }
  },
  "cells": [
    {
      "cell_type": "markdown",
      "source": [
        "**Introduction**\n",
        "\n",
        "New York City skyline\n",
        "\n",
        "Welcome to New York City (NYC), one of the most-visited cities in the world. As a result, there are many Airbnb listings to meet the high demand for temporary lodging for anywhere between a few nights to many months. In this notebook, we will take a look at the NYC Airbnb market by combining data from multiple file types like .csv, and .xlsx.\n",
        "\n",
        "\n",
        "\n",
        "We will be working with three datasets:\n",
        "\n",
        "\"datasets/airbnb_price.csv\"\n",
        "\n",
        "\"datasets/airbnb_room_type.xlsx\"\n",
        "\n",
        "\"datasets/airbnb_last_review.csv\"\n",
        "\n",
        "\n",
        "\n",
        "Our goals are to convert untidy data into appropriate formats to analyze, and answer key questions including:\n",
        "\n",
        "\n",
        "\n",
        "*   What is the average price, per night, of an Airbnb listing in NYC?\n",
        "\n",
        "* How does the average price of an Airbnb listing, per month, compare to the private rental market?\n",
        "\n",
        "*   How many adverts are for private rooms?\n",
        "*   How do Airbnb listing prices compare across the five NYC boroughs?\n",
        "\n",
        "\n",
        "\n",
        "\n",
        "\n",
        "\n"
      ],
      "metadata": {
        "id": "x4sItkY9BJsK"
      }
    },
    {
      "cell_type": "markdown",
      "source": [
        "**Data Loading**"
      ],
      "metadata": {
        "id": "-c3XM-PJE-Mp"
      }
    },
    {
      "cell_type": "code",
      "source": [
        "# Step 1: Importing Libraries and Loading Data\n",
        "import numpy as np\n",
        "import pandas as pd\n",
        "import datetime as dt\n",
        "import matplotlib.pyplot as plt\n",
        "import seaborn as sns\n",
        "from IPython.display import HTML\n",
        "\n",
        "# Load datasets\n",
        "review_address = \"/kaggle/input/new-york-city-airbnb-market/airbnb_last_review.csv\"\n",
        "price_address = \"/kaggle/input/new-york-city-airbnb-market/airbnb_price.csv\"\n",
        "room_address = \"/kaggle/input/new-york-city-airbnb-market/airbnb_room_type.xlsx\"\n",
        "\n",
        "reviews = pd.read_csv(\"/content/airbnb_last_review.csv\")\n",
        "prices = pd.read_csv(\"/content/airbnb_price.csv\")\n",
        "rooms = pd.read_excel(\"/content/airbnb_room_type.xlsx\")\n",
        "\n",
        "# Display dataframes side by side for initial inspection\n",
        "def side_by_side(*objs):\n",
        "    return HTML(pd.concat(objs, axis=1).to_html())\n",
        "\n",
        "side_by_side(prices.head(), rooms.head(), reviews.head())"
      ],
      "metadata": {
        "colab": {
          "base_uri": "https://localhost:8080/",
          "height": 310
        },
        "id": "uE-KX3t1DuRV",
        "outputId": "4a5b66e4-7436-449f-96ae-875102fc9233"
      },
      "execution_count": 4,
      "outputs": [
        {
          "output_type": "execute_result",
          "data": {
            "text/plain": [
              "<IPython.core.display.HTML object>"
            ],
            "text/html": [
              "<table border=\"1\" class=\"dataframe\">\n",
              "  <thead>\n",
              "    <tr style=\"text-align: right;\">\n",
              "      <th></th>\n",
              "      <th>listing_id</th>\n",
              "      <th>price</th>\n",
              "      <th>nbhood_full</th>\n",
              "      <th>listing_id</th>\n",
              "      <th>description</th>\n",
              "      <th>room_type</th>\n",
              "      <th>listing_id</th>\n",
              "      <th>host_name</th>\n",
              "      <th>last_review</th>\n",
              "    </tr>\n",
              "  </thead>\n",
              "  <tbody>\n",
              "    <tr>\n",
              "      <th>0</th>\n",
              "      <td>2595</td>\n",
              "      <td>225 dollars</td>\n",
              "      <td>Manhattan, Midtown</td>\n",
              "      <td>2595</td>\n",
              "      <td>Skylit Midtown Castle</td>\n",
              "      <td>Entire home/apt</td>\n",
              "      <td>2595</td>\n",
              "      <td>Jennifer</td>\n",
              "      <td>May 21 2019</td>\n",
              "    </tr>\n",
              "    <tr>\n",
              "      <th>1</th>\n",
              "      <td>3831</td>\n",
              "      <td>89 dollars</td>\n",
              "      <td>Brooklyn, Clinton Hill</td>\n",
              "      <td>3831</td>\n",
              "      <td>Cozy Entire Floor of Brownstone</td>\n",
              "      <td>Entire home/apt</td>\n",
              "      <td>3831</td>\n",
              "      <td>LisaRoxanne</td>\n",
              "      <td>July 05 2019</td>\n",
              "    </tr>\n",
              "    <tr>\n",
              "      <th>2</th>\n",
              "      <td>5099</td>\n",
              "      <td>200 dollars</td>\n",
              "      <td>Manhattan, Murray Hill</td>\n",
              "      <td>5099</td>\n",
              "      <td>Large Cozy 1 BR Apartment In Midtown East</td>\n",
              "      <td>Entire home/apt</td>\n",
              "      <td>5099</td>\n",
              "      <td>Chris</td>\n",
              "      <td>June 22 2019</td>\n",
              "    </tr>\n",
              "    <tr>\n",
              "      <th>3</th>\n",
              "      <td>5178</td>\n",
              "      <td>79 dollars</td>\n",
              "      <td>Manhattan, Hell's Kitchen</td>\n",
              "      <td>5178</td>\n",
              "      <td>Large Furnished Room Near B'way</td>\n",
              "      <td>private room</td>\n",
              "      <td>5178</td>\n",
              "      <td>Shunichi</td>\n",
              "      <td>June 24 2019</td>\n",
              "    </tr>\n",
              "    <tr>\n",
              "      <th>4</th>\n",
              "      <td>5238</td>\n",
              "      <td>150 dollars</td>\n",
              "      <td>Manhattan, Chinatown</td>\n",
              "      <td>5238</td>\n",
              "      <td>Cute &amp; Cozy Lower East Side 1 bdrm</td>\n",
              "      <td>Entire home/apt</td>\n",
              "      <td>5238</td>\n",
              "      <td>Ben</td>\n",
              "      <td>June 09 2019</td>\n",
              "    </tr>\n",
              "  </tbody>\n",
              "</table>"
            ]
          },
          "metadata": {},
          "execution_count": 4
        }
      ]
    },
    {
      "cell_type": "code",
      "source": [
        "# Descriptive statistics for price\n",
        "price_stats = prices['price'].describe()\n",
        "print(price_stats)"
      ],
      "metadata": {
        "colab": {
          "base_uri": "https://localhost:8080/",
          "height": 0
        },
        "id": "Du1tYXjqEyoW",
        "outputId": "eee7237b-b986-4e6d-b182-b9b859e33e0f"
      },
      "execution_count": 5,
      "outputs": [
        {
          "output_type": "stream",
          "name": "stdout",
          "text": [
            "count           25209\n",
            "unique            536\n",
            "top       150 dollars\n",
            "freq              982\n",
            "Name: price, dtype: object\n"
          ]
        }
      ]
    },
    {
      "cell_type": "markdown",
      "source": [
        "**Data Cleaning**\n",
        "\n",
        "*Handling Missing Values*\n",
        "\n",
        "There are several missing values in two features: host_name and description. And also, all features are type of string, with the exception of listing_id which is integer."
      ],
      "metadata": {
        "id": "2uRKQPDEFLhi"
      }
    },
    {
      "cell_type": "code",
      "source": [
        "# Check for missing values in each dataset\n",
        "missing_prices = prices.isnull().sum()\n",
        "missing_room_types = rooms.isnull().sum()\n",
        "missing_reviews = reviews.isnull().sum()\n",
        "\n",
        "print(\"Missing values in prices:\\n\", missing_prices)\n",
        "print(\"\\nMissing values in room_types:\\n\", missing_room_types)\n",
        "print(\"\\nMissing values in reviews:\\n\", missing_reviews)\n",
        "\n",
        "# Handle missing values (example: drop rows with missing values)\n",
        "prices.dropna(inplace=True)\n",
        "rooms.dropna(inplace=True)\n",
        "reviews.dropna(inplace=True)"
      ],
      "metadata": {
        "colab": {
          "base_uri": "https://localhost:8080/",
          "height": 0
        },
        "id": "n-1sim4vFU3Z",
        "outputId": "4fe99d4d-a33c-487a-bc01-acf94b4a1c41"
      },
      "execution_count": 6,
      "outputs": [
        {
          "output_type": "stream",
          "name": "stdout",
          "text": [
            "Missing values in prices:\n",
            " listing_id     0\n",
            "price          0\n",
            "nbhood_full    0\n",
            "dtype: int64\n",
            "\n",
            "Missing values in room_types:\n",
            " listing_id      0\n",
            "description    10\n",
            "room_type       0\n",
            "dtype: int64\n",
            "\n",
            "Missing values in reviews:\n",
            "  listing_id    0\n",
            "host_name      8\n",
            "last_review    0\n",
            "dtype: int64\n"
          ]
        }
      ]
    },
    {
      "cell_type": "markdown",
      "source": [
        "*Handling Duplicate Data*"
      ],
      "metadata": {
        "id": "yretSjkVFeDB"
      }
    },
    {
      "cell_type": "code",
      "source": [
        "# Drop rows with any duplicates values\n",
        "prices.drop_duplicates(inplace=True)\n",
        "rooms.drop_duplicates(inplace=True)\n",
        "reviews.drop_duplicates(inplace=True)"
      ],
      "metadata": {
        "id": "6GL93YqkFkUd"
      },
      "execution_count": 8,
      "outputs": []
    },
    {
      "cell_type": "markdown",
      "source": [
        "*Correcting Data Types*\n",
        "\n",
        "1. You may have noticed that the price column in the prices DataFrame currently states each value as a string with the currency (dollars) following, i.e.,\n",
        "price = 225 dollars,we will need to clean the column in order to calculate the average price.\n",
        "\n",
        "\n",
        "\n",
        "2. The room_type column has several variations for private room listings, specifically:\n",
        "\n",
        "    \"Private room\"\n",
        "\n",
        "    \"private room\"\n",
        "\n",
        "    \"PRIVATE ROOM\"\n",
        "\n",
        "    We can solve this by converting all string characters to lower case (upper case would also work just fine)."
      ],
      "metadata": {
        "id": "r-A8YssvFr9L"
      }
    },
    {
      "cell_type": "code",
      "source": [
        "# Remove whitespace and string characters from prices column\n",
        "prices['price'] = prices['price'].str.replace(' dollars', '').astype(float)\n",
        "\n",
        "# Update the room_type column to category data type\n",
        "rooms['room_type'] = rooms['room_type'].astype('category')\n",
        "\n",
        "# Change the data type of the last_review column to datetime\n",
        "reviews[\"last_review\"] = pd.to_datetime(reviews[\"last_review\"])\n",
        "\n",
        "# Convert the room_type column to lowercase\n",
        "rooms['room_type'] = rooms['room_type'].str.lower()"
      ],
      "metadata": {
        "id": "hpLJ9Wn3GaN6"
      },
      "execution_count": 9,
      "outputs": []
    },
    {
      "cell_type": "markdown",
      "source": [
        "*Handling Outliers*\n",
        "\n",
        "We can see above that there are some outliers including a maximum price of 7,500 dollars per night!\n",
        "\n",
        "Some of listings are actually showing as free. So we will handle it"
      ],
      "metadata": {
        "id": "btgs1IwpGxbR"
      }
    },
    {
      "cell_type": "code",
      "source": [
        "# How many free houses ?\n",
        "print(prices[\"price\"].value_counts()[0])\n",
        "# Update prices by removing all free listings from prices\n",
        "prices = prices[prices['price'] != 0]\n",
        "\n",
        "# Remove outliers using IQR\n",
        "Q1 = prices['price'].quantile(0.25)\n",
        "Q3 = prices['price'].quantile(0.75)\n",
        "IQR = Q3 - Q1\n",
        "prices = prices[~((prices['price'] < (Q1 - 1.5 * IQR)) | (prices['price'] > (Q3 + 1.5 * IQR)))]"
      ],
      "metadata": {
        "colab": {
          "base_uri": "https://localhost:8080/",
          "height": 0
        },
        "id": "d3ZX6IE3G357",
        "outputId": "9d889f02-65b7-4974-9c96-5e93a1afb97c"
      },
      "execution_count": 10,
      "outputs": [
        {
          "output_type": "stream",
          "name": "stdout",
          "text": [
            "7\n"
          ]
        }
      ]
    },
    {
      "cell_type": "markdown",
      "source": [
        "*Feature Engineering*\n",
        "\n",
        "We can currently see boroughs listed as the first part of a string within the nbhood_full column, e.g.,\n",
        "\n",
        "Manhattan, Midtown\n",
        "\n",
        "Brooklyn, Clinton Hill\n",
        "\n",
        "Manhattan, Murray Hill\n",
        "\n",
        "We will therefore need to extract this information from the string and store in a new column, borough, for analysis."
      ],
      "metadata": {
        "id": "ShzlS9h4HRBg"
      }
    },
    {
      "cell_type": "code",
      "source": [
        "# Extract information from the nbhood_full column and store as a new column, borough\n",
        "# Either use `.str.partition()` or `.str.split()`\n",
        "prices['borough'] = prices['nbhood_full'].str.partition(',', expand=True)[0]"
      ],
      "metadata": {
        "id": "d5MHSfY9HZOf"
      },
      "execution_count": 11,
      "outputs": []
    },
    {
      "cell_type": "markdown",
      "source": [
        "**Exploratory Data Analysis (EDA)**\n",
        "\n",
        "*Descriptive Statistics*"
      ],
      "metadata": {
        "id": "qb036ygHHbzS"
      }
    },
    {
      "cell_type": "code",
      "source": [
        "# Descriptive statistics for price\n",
        "price_stats = prices['price'].describe()\n",
        "print(price_stats)"
      ],
      "metadata": {
        "colab": {
          "base_uri": "https://localhost:8080/",
          "height": 0
        },
        "id": "hIyyP_4CHp2F",
        "outputId": "e749df87-3a92-4f9e-c402-0199e61ebf44"
      },
      "execution_count": 12,
      "outputs": [
        {
          "output_type": "stream",
          "name": "stdout",
          "text": [
            "count    23876.000000\n",
            "mean       119.184914\n",
            "std         67.206242\n",
            "min         10.000000\n",
            "25%         65.000000\n",
            "50%        100.000000\n",
            "75%        155.000000\n",
            "max        334.000000\n",
            "Name: price, dtype: float64\n"
          ]
        }
      ]
    },
    {
      "cell_type": "markdown",
      "source": [
        "*Distribution Analysis*"
      ],
      "metadata": {
        "id": "osMqRHRcHw3I"
      }
    },
    {
      "cell_type": "code",
      "source": [
        "# Visualization of price distribution\n",
        "plt.figure(figsize=(10, 6))\n",
        "sns.histplot(prices['price'], bins=50, kde=True)\n",
        "plt.title('Distribution of Airbnb Prices')\n",
        "plt.xlabel('Price')\n",
        "plt.ylabel('Frequency')\n",
        "plt.show()"
      ],
      "metadata": {
        "colab": {
          "base_uri": "https://localhost:8080/",
          "height": 564
        },
        "id": "qkLGRSqfHyyr",
        "outputId": "05588978-31b5-4ae4-e4ab-1e4c6edf42e8"
      },
      "execution_count": 13,
      "outputs": [
        {
          "output_type": "display_data",
          "data": {
            "text/plain": [
              "<Figure size 1000x600 with 1 Axes>"
            ],
            "image/png": "[encoded data removed]"
          },
          "metadata": {}
        }
      ]
    },
    {
      "cell_type": "markdown",
      "source": [
        "*Categorical Data Analysis*"
      ],
      "metadata": {
        "id": "oLtIpCyZH-Af"
      }
    },
    {
      "cell_type": "code",
      "source": [
        "# Frequency of room types\n",
        "room_frequencies = rooms['room_type'].value_counts()\n",
        "print(room_frequencies)\n",
        "\n",
        "# Bar chart of room type frequencies\n",
        "plt.figure(figsize=(10, 6))\n",
        "sns.barplot(x=room_frequencies.index, y=room_frequencies.values)\n",
        "plt.title('Frequency of Room Types')\n",
        "plt.xlabel('Room Type')\n",
        "plt.ylabel('Frequency')\n",
        "plt.show()"
      ],
      "metadata": {
        "colab": {
          "base_uri": "https://localhost:8080/",
          "height": 651
        },
        "id": "ncL5EBPOH_-3",
        "outputId": "60fcd6c3-932e-4910-e22d-a20635c8b958"
      },
      "execution_count": 14,
      "outputs": [
        {
          "output_type": "stream",
          "name": "stdout",
          "text": [
            "room_type\n",
            "entire home/apt    13266\n",
            "private room       11346\n",
            "shared room          587\n",
            "Name: count, dtype: int64\n"
          ]
        },
        {
          "output_type": "display_data",
          "data": {
            "text/plain": [
              "<Figure size 1000x600 with 1 Axes>"
            ],
            "image/png": "[encoded data removed]"
          },
          "metadata": {}
        }
      ]
    },
    {
      "cell_type": "markdown",
      "source": [
        "*Time Series Analysis*"
      ],
      "metadata": {
        "id": "iV_-neOsIRoe"
      }
    },
    {
      "cell_type": "code",
      "source": [
        "# Extract year and month\n",
        "reviews['year'] = reviews['last_review'].dt.year\n",
        "reviews['month'] = reviews['last_review'].dt.month\n",
        "\n",
        "# Plot reviews over time\n",
        "reviews_by_month = reviews.groupby(['year', 'month']). size().reset_index(name='counts')\n",
        "\n",
        "plt.figure(figsize=(14, 7))\n",
        "sns.lineplot(data=reviews_by_month, x='month', y='counts', hue='year', marker='o')\n",
        "plt.title('Number of Reviews Over Time')\n",
        "plt.xlabel('Month')\n",
        "plt.ylabel('Number of Reviews')\n",
        "plt.show()"
      ],
      "metadata": {
        "colab": {
          "base_uri": "https://localhost:8080/",
          "height": 495
        },
        "id": "xiDfolZ4IRIL",
        "outputId": "c5522d5b-fb5d-4dbe-870e-db4229cf5cf5"
      },
      "execution_count": 15,
      "outputs": [
        {
          "output_type": "display_data",
          "data": {
            "text/plain": [
              "<Figure size 1400x700 with 1 Axes>"
            ],
            "image/png": "[encoded data removed]"
          },
          "metadata": {}
        }
      ]
    },
    {
      "cell_type": "markdown",
      "source": [
        "*Correlation Analysis*"
      ],
      "metadata": {
        "id": "nZHrvkXOIeis"
      }
    },
    {
      "cell_type": "code",
      "source": [
        "# Select only numerical columns from the prices dataset\n",
        "numerical_columns = prices.select_dtypes(include=[np.number])\n",
        "\n",
        "# Correlation matrix for numerical features\n",
        "correlation_matrix = numerical_columns.corr()\n",
        "\n",
        "# Heatmap of correlation matrix\n",
        "plt.figure(figsize=(8, 6))\n",
        "sns.heatmap(correlation_matrix, annot=True, cmap='coolwarm', linewidths=0.5)\n",
        "plt.title('Correlation Matrix')\n",
        "plt.show()"
      ],
      "metadata": {
        "colab": {
          "base_uri": "https://localhost:8080/",
          "height": 545
        },
        "id": "0Qge1-lVIii7",
        "outputId": "a8793ed4-ad40-4651-d2bc-cf2fc8ab7000"
      },
      "execution_count": 16,
      "outputs": [
        {
          "output_type": "display_data",
          "data": {
            "text/plain": [
              "<Figure size 800x600 with 2 Axes>"
            ],
            "image/png": "[encoded data removed]"
          },
          "metadata": {}
        }
      ]
    },
    {
      "cell_type": "markdown",
      "source": [
        "**Combining Datasets**"
      ],
      "metadata": {
        "id": "bMBTLYUVIqri"
      }
    },
    {
      "cell_type": "code",
      "source": [
        "#There is a space character at the beginning of the column name, the space should be deleted\n",
        "reviews.rename(columns={' listing_id': 'listing_id'}, inplace=True)\n",
        "\n",
        "# Merge datasets on listing_id\n",
        "combined_data = prices.merge(rooms, on='listing_id').merge(reviews, on='listing_id')\n",
        "combined_data.head()"
      ],
      "metadata": {
        "colab": {
          "base_uri": "https://localhost:8080/",
          "height": 345
        },
        "id": "n-SjWXTPIsOw",
        "outputId": "cc245b47-a52b-4b15-c20c-fa2b61d610ed"
      },
      "execution_count": 17,
      "outputs": [
        {
          "output_type": "execute_result",
          "data": {
            "text/plain": [
              "   listing_id  price                nbhood_full    borough  \\\n",
              "0        2595  225.0         Manhattan, Midtown  Manhattan   \n",
              "1        3831   89.0     Brooklyn, Clinton Hill   Brooklyn   \n",
              "2        5099  200.0     Manhattan, Murray Hill  Manhattan   \n",
              "3        5178   79.0  Manhattan, Hell's Kitchen  Manhattan   \n",
              "4        5238  150.0       Manhattan, Chinatown  Manhattan   \n",
              "\n",
              "                                 description        room_type    host_name  \\\n",
              "0                      Skylit Midtown Castle  entire home/apt     Jennifer   \n",
              "1            Cozy Entire Floor of Brownstone  entire home/apt  LisaRoxanne   \n",
              "2  Large Cozy 1 BR Apartment In Midtown East  entire home/apt        Chris   \n",
              "3            Large Furnished Room Near B'way     private room     Shunichi   \n",
              "4         Cute & Cozy Lower East Side 1 bdrm  entire home/apt          Ben   \n",
              "\n",
              "  last_review  year  month  \n",
              "0  2019-05-21  2019      5  \n",
              "1  2019-07-05  2019      7  \n",
              "2  2019-06-22  2019      6  \n",
              "3  2019-06-24  2019      6  \n",
              "4  2019-06-09  2019      6  "
            ],
            "text/html": [
              "\n",
              "  <div id=\"df-50d8ee4d-ec35-42dc-a4b5-214a9b7f460d\" class=\"colab-df-container\">\n",
              "    <div>\n",
              "<style scoped>\n",
              "    .dataframe tbody tr th:only-of-type {\n",
              "        vertical-align: middle;\n",
              "    }\n",
              "\n",
              "    .dataframe tbody tr th {\n",
              "        vertical-align: top;\n",
              "    }\n",
              "\n",
              "    .dataframe thead th {\n",
              "        text-align: right;\n",
              "    }\n",
              "</style>\n",
              "<table border=\"1\" class=\"dataframe\">\n",
              "  <thead>\n",
              "    <tr style=\"text-align: right;\">\n",
              "      <th></th>\n",
              "      <th>listing_id</th>\n",
              "      <th>price</th>\n",
              "      <th>nbhood_full</th>\n",
              "      <th>borough</th>\n",
              "      <th>description</th>\n",
              "      <th>room_type</th>\n",
              "      <th>host_name</th>\n",
              "      <th>last_review</th>\n",
              "      <th>year</th>\n",
              "      <th>month</th>\n",
              "    </tr>\n",
              "  </thead>\n",
              "  <tbody>\n",
              "    <tr>\n",
              "      <th>0</th>\n",
              "      <td>2595</td>\n",
              "      <td>225.0</td>\n",
              "      <td>Manhattan, Midtown</td>\n",
              "      <td>Manhattan</td>\n",
              "      <td>Skylit Midtown Castle</td>\n",
              "      <td>entire home/apt</td>\n",
              "      <td>Jennifer</td>\n",
              "      <td>2019-05-21</td>\n",
              "      <td>2019</td>\n",
              "      <td>5</td>\n",
              "    </tr>\n",
              "    <tr>\n",
              "      <th>1</th>\n",
              "      <td>3831</td>\n",
              "      <td>89.0</td>\n",
              "      <td>Brooklyn, Clinton Hill</td>\n",
              "      <td>Brooklyn</td>\n",
              "      <td>Cozy Entire Floor of Brownstone</td>\n",
              "      <td>entire home/apt</td>\n",
              "      <td>LisaRoxanne</td>\n",
              "      <td>2019-07-05</td>\n",
              "      <td>2019</td>\n",
              "      <td>7</td>\n",
              "    </tr>\n",
              "    <tr>\n",
              "      <th>2</th>\n",
              "      <td>5099</td>\n",
              "      <td>200.0</td>\n",
              "      <td>Manhattan, Murray Hill</td>\n",
              "      <td>Manhattan</td>\n",
              "      <td>Large Cozy 1 BR Apartment In Midtown East</td>\n",
              "      <td>entire home/apt</td>\n",
              "      <td>Chris</td>\n",
              "      <td>2019-06-22</td>\n",
              "      <td>2019</td>\n",
              "      <td>6</td>\n",
              "    </tr>\n",
              "    <tr>\n",
              "      <th>3</th>\n",
              "      <td>5178</td>\n",
              "      <td>79.0</td>\n",
              "      <td>Manhattan, Hell's Kitchen</td>\n",
              "      <td>Manhattan</td>\n",
              "      <td>Large Furnished Room Near B'way</td>\n",
              "      <td>private room</td>\n",
              "      <td>Shunichi</td>\n",
              "      <td>2019-06-24</td>\n",
              "      <td>2019</td>\n",
              "      <td>6</td>\n",
              "    </tr>\n",
              "    <tr>\n",
              "      <th>4</th>\n",
              "      <td>5238</td>\n",
              "      <td>150.0</td>\n",
              "      <td>Manhattan, Chinatown</td>\n",
              "      <td>Manhattan</td>\n",
              "      <td>Cute &amp; Cozy Lower East Side 1 bdrm</td>\n",
              "      <td>entire home/apt</td>\n",
              "      <td>Ben</td>\n",
              "      <td>2019-06-09</td>\n",
              "      <td>2019</td>\n",
              "      <td>6</td>\n",
              "    </tr>\n",
              "  </tbody>\n",
              "</table>\n",
              "</div>\n",
              "    <div class=\"colab-df-buttons\">\n",
              "\n",
              "  <div class=\"colab-df-container\">\n",
              "    <button class=\"colab-df-convert\" onclick=\"convertToInteractive('df-50d8ee4d-ec35-42dc-a4b5-214a9b7f460d')\"\n",
              "            title=\"Convert this dataframe to an interactive table.\"\n",
              "            style=\"display:none;\">\n",
              "\n",
              "  <svg xmlns=\"http://www.w3.org/2000/svg\" height=\"24px\" viewBox=\"0 -960 960 960\">\n",
              "    <path d=\"M120-120v-720h720v720H120Zm60-500h600v-160H180v160Zm220 220h160v-160H400v160Zm0 220h160v-160H400v160ZM180-400h160v-160H180v160Zm440 0h160v-160H620v160ZM180-180h160v-160H180v160Zm440 0h160v-160H620v160Z\"/>\n",
              "  </svg>\n",
              "    </button>\n",
              "\n",
              "  <style>\n",
              "    .colab-df-container {\n",
              "      display:flex;\n",
              "      gap: 12px;\n",
              "    }\n",
              "\n",
              "    .colab-df-convert {\n",
              "      background-color: #E8F0FE;\n",
              "      border: none;\n",
              "      border-radius: 50%;\n",
              "      cursor: pointer;\n",
              "      display: none;\n",
              "      fill: #1967D2;\n",
              "      height: 32px;\n",
              "      padding: 0 0 0 0;\n",
              "      width: 32px;\n",
              "    }\n",
              "\n",
              "    .colab-df-convert:hover {\n",
              "      background-color: #E2EBFA;\n",
              "      box-shadow: 0px 1px 2px rgba(60, 64, 67, 0.3), 0px 1px 3px 1px rgba(60, 64, 67, 0.15);\n",
              "      fill: #174EA6;\n",
              "    }\n",
              "\n",
              "    .colab-df-buttons div {\n",
              "      margin-bottom: 4px;\n",
              "    }\n",
              "\n",
              "    [theme=dark] .colab-df-convert {\n",
              "      background-color: #3B4455;\n",
              "      fill: #D2E3FC;\n",
              "    }\n",
              "\n",
              "    [theme=dark] .colab-df-convert:hover {\n",
              "      background-color: #434B5C;\n",
              "      box-shadow: 0px 1px 3px 1px rgba(0, 0, 0, 0.15);\n",
              "      filter: drop-shadow(0px 1px 2px rgba(0, 0, 0, 0.3));\n",
              "      fill: #FFFFFF;\n",
              "    }\n",
              "  </style>\n",
              "\n",
              "    <script>\n",
              "      const buttonEl =\n",
              "        document.querySelector('#df-50d8ee4d-ec35-42dc-a4b5-214a9b7f460d button.colab-df-convert');\n",
              "      buttonEl.style.display =\n",
              "        google.colab.kernel.accessAllowed ? 'block' : 'none';\n",
              "\n",
              "      async function convertToInteractive(key) {\n",
              "        const element = document.querySelector('#df-50d8ee4d-ec35-42dc-a4b5-214a9b7f460d');\n",
              "        const dataTable =\n",
              "          await google.colab.kernel.invokeFunction('convertToInteractive',\n",
              "                                                    [key], {});\n",
              "        if (!dataTable) return;\n",
              "\n",
              "        const docLinkHtml = 'Like what you see? Visit the ' +\n",
              "          '<a target=\"_blank\" href=https://colab.research.google.com/notebooks/data_table.ipynb>data table notebook</a>'\n",
              "          + ' to learn more about interactive tables.';\n",
              "        element.innerHTML = '';\n",
              "        dataTable['output_type'] = 'display_data';\n",
              "        await google.colab.output.renderOutput(dataTable, element);\n",
              "        const docLink = document.createElement('div');\n",
              "        docLink.innerHTML = docLinkHtml;\n",
              "        element.appendChild(docLink);\n",
              "      }\n",
              "    </script>\n",
              "  </div>\n",
              "\n",
              "\n",
              "    <div id=\"df-e2339461-99a6-422b-89cb-669867b4ee8b\">\n",
              "      <button class=\"colab-df-quickchart\" onclick=\"quickchart('df-e2339461-99a6-422b-89cb-669867b4ee8b')\"\n",
              "                title=\"Suggest charts\"\n",
              "                style=\"display:none;\">\n",
              "\n",
              "<svg xmlns=\"http://www.w3.org/2000/svg\" height=\"24px\"viewBox=\"0 0 24 24\"\n",
              "     width=\"24px\">\n",
              "    <g>\n",
              "        <path d=\"M19 3H5c-1.1 0-2 .9-2 2v14c0 1.1.9 2 2 2h14c1.1 0 2-.9 2-2V5c0-1.1-.9-2-2-2zM9 17H7v-7h2v7zm4 0h-2V7h2v10zm4 0h-2v-4h2v4z\"/>\n",
              "    </g>\n",
              "</svg>\n",
              "      </button>\n",
              "\n",
              "<style>\n",
              "  .colab-df-quickchart {\n",
              "      --bg-color: #E8F0FE;\n",
              "      --fill-color: #1967D2;\n",
              "      --hover-bg-color: #E2EBFA;\n",
              "      --hover-fill-color: #174EA6;\n",
              "      --disabled-fill-color: #AAA;\n",
              "      --disabled-bg-color: #DDD;\n",
              "  }\n",
              "\n",
              "  [theme=dark] .colab-df-quickchart {\n",
              "      --bg-color: #3B4455;\n",
              "      --fill-color: #D2E3FC;\n",
              "      --hover-bg-color: #434B5C;\n",
              "      --hover-fill-color: #FFFFFF;\n",
              "      --disabled-bg-color: #3B4455;\n",
              "      --disabled-fill-color: #666;\n",
              "  }\n",
              "\n",
              "  .colab-df-quickchart {\n",
              "    background-color: var(--bg-color);\n",
              "    border: none;\n",
              "    border-radius: 50%;\n",
              "    cursor: pointer;\n",
              "    display: none;\n",
              "    fill: var(--fill-color);\n",
              "    height: 32px;\n",
              "    padding: 0;\n",
              "    width: 32px;\n",
              "  }\n",
              "\n",
              "  .colab-df-quickchart:hover {\n",
              "    background-color: var(--hover-bg-color);\n",
              "    box-shadow: 0 1px 2px rgba(60, 64, 67, 0.3), 0 1px 3px 1px rgba(60, 64, 67, 0.15);\n",
              "    fill: var(--button-hover-fill-color);\n",
              "  }\n",
              "\n",
              "  .colab-df-quickchart-complete:disabled,\n",
              "  .colab-df-quickchart-complete:disabled:hover {\n",
              "    background-color: var(--disabled-bg-color);\n",
              "    fill: var(--disabled-fill-color);\n",
              "    box-shadow: none;\n",
              "  }\n",
              "\n",
              "  .colab-df-spinner {\n",
              "    border: 2px solid var(--fill-color);\n",
              "    border-color: transparent;\n",
              "    border-bottom-color: var(--fill-color);\n",
              "    animation:\n",
              "      spin 1s steps(1) infinite;\n",
              "  }\n",
              "\n",
              "  @keyframes spin {\n",
              "    0% {\n",
              "      border-color: transparent;\n",
              "      border-bottom-color: var(--fill-color);\n",
              "      border-left-color: var(--fill-color);\n",
              "    }\n",
              "    20% {\n",
              "      border-color: transparent;\n",
              "      border-left-color: var(--fill-color);\n",
              "      border-top-color: var(--fill-color);\n",
              "    }\n",
              "    30% {\n",
              "      border-color: transparent;\n",
              "      border-left-color: var(--fill-color);\n",
              "      border-top-color: var(--fill-color);\n",
              "      border-right-color: var(--fill-color);\n",
              "    }\n",
              "    40% {\n",
              "      border-color: transparent;\n",
              "      border-right-color: var(--fill-color);\n",
              "      border-top-color: var(--fill-color);\n",
              "    }\n",
              "    60% {\n",
              "      border-color: transparent;\n",
              "      border-right-color: var(--fill-color);\n",
              "    }\n",
              "    80% {\n",
              "      border-color: transparent;\n",
              "      border-right-color: var(--fill-color);\n",
              "      border-bottom-color: var(--fill-color);\n",
              "    }\n",
              "    90% {\n",
              "      border-color: transparent;\n",
              "      border-bottom-color: var(--fill-color);\n",
              "    }\n",
              "  }\n",
              "</style>\n",
              "\n",
              "      <script>\n",
              "        async function quickchart(key) {\n",
              "          const quickchartButtonEl =\n",
              "            document.querySelector('#' + key + ' button');\n",
              "          quickchartButtonEl.disabled = true;  // To prevent multiple clicks.\n",
              "          quickchartButtonEl.classList.add('colab-df-spinner');\n",
              "          try {\n",
              "            const charts = await google.colab.kernel.invokeFunction(\n",
              "                'suggestCharts', [key], {});\n",
              "          } catch (error) {\n",
              "            console.error('Error during call to suggestCharts:', error);\n",
              "          }\n",
              "          quickchartButtonEl.classList.remove('colab-df-spinner');\n",
              "          quickchartButtonEl.classList.add('colab-df-quickchart-complete');\n",
              "        }\n",
              "        (() => {\n",
              "          let quickchartButtonEl =\n",
              "            document.querySelector('#df-e2339461-99a6-422b-89cb-669867b4ee8b button');\n",
              "          quickchartButtonEl.style.display =\n",
              "            google.colab.kernel.accessAllowed ? 'block' : 'none';\n",
              "        })();\n",
              "      </script>\n",
              "    </div>\n",
              "\n",
              "    </div>\n",
              "  </div>\n"
            ],
            "application/vnd.google.colaboratory.intrinsic+json": {
              "type": "dataframe",
              "variable_name": "combined_data",
              "summary": "{\n  \"name\": \"combined_data\",\n  \"rows\": 23858,\n  \"fields\": [\n    {\n      \"column\": \"listing_id\",\n      \"properties\": {\n        \"dtype\": \"number\",\n        \"std\": 11006905,\n        \"min\": 2595,\n        \"max\": 36455809,\n        \"num_unique_values\": 23858,\n        \"samples\": [\n          26877259,\n          15379480,\n          16603823\n        ],\n        \"semantic_type\": \"\",\n        \"description\": \"\"\n      }\n    },\n    {\n      \"column\": \"price\",\n      \"properties\": {\n        \"dtype\": \"number\",\n        \"std\": 67.21457399936209,\n        \"min\": 10.0,\n        \"max\": 334.0,\n        \"num_unique_values\": 310,\n        \"samples\": [\n          321.0,\n          99.0,\n          196.0\n        ],\n        \"semantic_type\": \"\",\n        \"description\": \"\"\n      }\n    },\n    {\n      \"column\": \"nbhood_full\",\n      \"properties\": {\n        \"dtype\": \"category\",\n        \"num_unique_values\": 217,\n        \"samples\": [\n          \"Bronx, Unionport\",\n          \"Staten Island, Bay Terrace, Staten Island\",\n          \"Queens, Bellerose\"\n        ],\n        \"semantic_type\": \"\",\n        \"description\": \"\"\n      }\n    },\n    {\n      \"column\": \"borough\",\n      \"properties\": {\n        \"dtype\": \"category\",\n        \"num_unique_values\": 5,\n        \"samples\": [\n          \"Brooklyn\",\n          \"Bronx\",\n          \"Queens\"\n        ],\n        \"semantic_type\": \"\",\n        \"description\": \"\"\n      }\n    },\n    {\n      \"column\": \"description\",\n      \"properties\": {\n        \"dtype\": \"string\",\n        \"num_unique_values\": 23612,\n        \"samples\": [\n          \"A Quiet Room in Greenpoint\",\n          \"Bright and lovely 1 bdrm apt in LES\",\n          \"Cozy room with nice view.(20mn to Times Square).\"\n        ],\n        \"semantic_type\": \"\",\n        \"description\": \"\"\n      }\n    },\n    {\n      \"column\": \"room_type\",\n      \"properties\": {\n        \"dtype\": \"category\",\n        \"num_unique_values\": 3,\n        \"samples\": [\n          \"entire home/apt\",\n          \"private room\",\n          \"shared room\"\n        ],\n        \"semantic_type\": \"\",\n        \"description\": \"\"\n      }\n    },\n    {\n      \"column\": \"host_name\",\n      \"properties\": {\n        \"dtype\": \"category\",\n        \"num_unique_values\": 7102,\n        \"samples\": [\n          \"Brigitte\",\n          \"H&E\",\n          \"Nydia\"\n        ],\n        \"semantic_type\": \"\",\n        \"description\": \"\"\n      }\n    },\n    {\n      \"column\": \"last_review\",\n      \"properties\": {\n        \"dtype\": \"date\",\n        \"min\": \"2019-01-01 00:00:00\",\n        \"max\": \"2019-07-09 00:00:00\",\n        \"num_unique_values\": 190,\n        \"samples\": [\n          \"2019-03-03 00:00:00\",\n          \"2019-01-16 00:00:00\",\n          \"2019-05-05 00:00:00\"\n        ],\n        \"semantic_type\": \"\",\n        \"description\": \"\"\n      }\n    },\n    {\n      \"column\": \"year\",\n      \"properties\": {\n        \"dtype\": \"int32\",\n        \"num_unique_values\": 1,\n        \"samples\": [\n          2019\n        ],\n        \"semantic_type\": \"\",\n        \"description\": \"\"\n      }\n    },\n    {\n      \"column\": \"month\",\n      \"properties\": {\n        \"dtype\": \"int32\",\n        \"num_unique_values\": 7,\n        \"samples\": [\n          5\n        ],\n        \"semantic_type\": \"\",\n        \"description\": \"\"\n      }\n    }\n  ]\n}"
            }
          },
          "metadata": {},
          "execution_count": 17
        }
      ]
    },
    {
      "cell_type": "markdown",
      "source": [
        "**Feature Engineering**"
      ],
      "metadata": {
        "id": "WT8MS7Q4I0Ai"
      }
    },
    {
      "cell_type": "code",
      "source": [
        "# Example of feature engineering: calculate price per night in different seasons\n",
        "# Assuming 'last_review' is indicative of the season\n",
        "combined_data['season'] = combined_data['last_review'].dt.month % 12 // 3 + 1\n",
        "combined_data['season'] = combined_data['season'].map({1: 'Winter', 2: 'Spring', 3: 'Summer', 4: 'Fall'})\n",
        "combined_data.head()"
      ],
      "metadata": {
        "colab": {
          "base_uri": "https://localhost:8080/",
          "height": 434
        },
        "id": "QLvN5DVeI18y",
        "outputId": "d623cd47-fefc-499b-e995-fdef33b35eca"
      },
      "execution_count": 18,
      "outputs": [
        {
          "output_type": "execute_result",
          "data": {
            "text/plain": [
              "   listing_id  price                nbhood_full    borough  \\\n",
              "0        2595  225.0         Manhattan, Midtown  Manhattan   \n",
              "1        3831   89.0     Brooklyn, Clinton Hill   Brooklyn   \n",
              "2        5099  200.0     Manhattan, Murray Hill  Manhattan   \n",
              "3        5178   79.0  Manhattan, Hell's Kitchen  Manhattan   \n",
              "4        5238  150.0       Manhattan, Chinatown  Manhattan   \n",
              "\n",
              "                                 description        room_type    host_name  \\\n",
              "0                      Skylit Midtown Castle  entire home/apt     Jennifer   \n",
              "1            Cozy Entire Floor of Brownstone  entire home/apt  LisaRoxanne   \n",
              "2  Large Cozy 1 BR Apartment In Midtown East  entire home/apt        Chris   \n",
              "3            Large Furnished Room Near B'way     private room     Shunichi   \n",
              "4         Cute & Cozy Lower East Side 1 bdrm  entire home/apt          Ben   \n",
              "\n",
              "  last_review  year  month  season  \n",
              "0  2019-05-21  2019      5  Spring  \n",
              "1  2019-07-05  2019      7  Summer  \n",
              "2  2019-06-22  2019      6  Summer  \n",
              "3  2019-06-24  2019      6  Summer  \n",
              "4  2019-06-09  2019      6  Summer  "
            ],
            "text/html": [
              "\n",
              "  <div id=\"df-aeafd71b-961f-471c-98ad-104445c5a717\" class=\"colab-df-container\">\n",
              "    <div>\n",
              "<style scoped>\n",
              "    .dataframe tbody tr th:only-of-type {\n",
              "        vertical-align: middle;\n",
              "    }\n",
              "\n",
              "    .dataframe tbody tr th {\n",
              "        vertical-align: top;\n",
              "    }\n",
              "\n",
              "    .dataframe thead th {\n",
              "        text-align: right;\n",
              "    }\n",
              "</style>\n",
              "<table border=\"1\" class=\"dataframe\">\n",
              "  <thead>\n",
              "    <tr style=\"text-align: right;\">\n",
              "      <th></th>\n",
              "      <th>listing_id</th>\n",
              "      <th>price</th>\n",
              "      <th>nbhood_full</th>\n",
              "      <th>borough</th>\n",
              "      <th>description</th>\n",
              "      <th>room_type</th>\n",
              "      <th>host_name</th>\n",
              "      <th>last_review</th>\n",
              "      <th>year</th>\n",
              "      <th>month</th>\n",
              "      <th>season</th>\n",
              "    </tr>\n",
              "  </thead>\n",
              "  <tbody>\n",
              "    <tr>\n",
              "      <th>0</th>\n",
              "      <td>2595</td>\n",
              "      <td>225.0</td>\n",
              "      <td>Manhattan, Midtown</td>\n",
              "      <td>Manhattan</td>\n",
              "      <td>Skylit Midtown Castle</td>\n",
              "      <td>entire home/apt</td>\n",
              "      <td>Jennifer</td>\n",
              "      <td>2019-05-21</td>\n",
              "      <td>2019</td>\n",
              "      <td>5</td>\n",
              "      <td>Spring</td>\n",
              "    </tr>\n",
              "    <tr>\n",
              "      <th>1</th>\n",
              "      <td>3831</td>\n",
              "      <td>89.0</td>\n",
              "      <td>Brooklyn, Clinton Hill</td>\n",
              "      <td>Brooklyn</td>\n",
              "      <td>Cozy Entire Floor of Brownstone</td>\n",
              "      <td>entire home/apt</td>\n",
              "      <td>LisaRoxanne</td>\n",
              "      <td>2019-07-05</td>\n",
              "      <td>2019</td>\n",
              "      <td>7</td>\n",
              "      <td>Summer</td>\n",
              "    </tr>\n",
              "    <tr>\n",
              "      <th>2</th>\n",
              "      <td>5099</td>\n",
              "      <td>200.0</td>\n",
              "      <td>Manhattan, Murray Hill</td>\n",
              "      <td>Manhattan</td>\n",
              "      <td>Large Cozy 1 BR Apartment In Midtown East</td>\n",
              "      <td>entire home/apt</td>\n",
              "      <td>Chris</td>\n",
              "      <td>2019-06-22</td>\n",
              "      <td>2019</td>\n",
              "      <td>6</td>\n",
              "      <td>Summer</td>\n",
              "    </tr>\n",
              "    <tr>\n",
              "      <th>3</th>\n",
              "      <td>5178</td>\n",
              "      <td>79.0</td>\n",
              "      <td>Manhattan, Hell's Kitchen</td>\n",
              "      <td>Manhattan</td>\n",
              "      <td>Large Furnished Room Near B'way</td>\n",
              "      <td>private room</td>\n",
              "      <td>Shunichi</td>\n",
              "      <td>2019-06-24</td>\n",
              "      <td>2019</td>\n",
              "      <td>6</td>\n",
              "      <td>Summer</td>\n",
              "    </tr>\n",
              "    <tr>\n",
              "      <th>4</th>\n",
              "      <td>5238</td>\n",
              "      <td>150.0</td>\n",
              "      <td>Manhattan, Chinatown</td>\n",
              "      <td>Manhattan</td>\n",
              "      <td>Cute &amp; Cozy Lower East Side 1 bdrm</td>\n",
              "      <td>entire home/apt</td>\n",
              "      <td>Ben</td>\n",
              "      <td>2019-06-09</td>\n",
              "      <td>2019</td>\n",
              "      <td>6</td>\n",
              "      <td>Summer</td>\n",
              "    </tr>\n",
              "  </tbody>\n",
              "</table>\n",
              "</div>\n",
              "    <div class=\"colab-df-buttons\">\n",
              "\n",
              "  <div class=\"colab-df-container\">\n",
              "    <button class=\"colab-df-convert\" onclick=\"convertToInteractive('df-aeafd71b-961f-471c-98ad-104445c5a717')\"\n",
              "            title=\"Convert this dataframe to an interactive table.\"\n",
              "            style=\"display:none;\">\n",
              "\n",
              "  <svg xmlns=\"http://www.w3.org/2000/svg\" height=\"24px\" viewBox=\"0 -960 960 960\">\n",
              "    <path d=\"M120-120v-720h720v720H120Zm60-500h600v-160H180v160Zm220 220h160v-160H400v160Zm0 220h160v-160H400v160ZM180-400h160v-160H180v160Zm440 0h160v-160H620v160ZM180-180h160v-160H180v160Zm440 0h160v-160H620v160Z\"/>\n",
              "  </svg>\n",
              "    </button>\n",
              "\n",
              "  <style>\n",
              "    .colab-df-container {\n",
              "      display:flex;\n",
              "      gap: 12px;\n",
              "    }\n",
              "\n",
              "    .colab-df-convert {\n",
              "      background-color: #E8F0FE;\n",
              "      border: none;\n",
              "      border-radius: 50%;\n",
              "      cursor: pointer;\n",
              "      display: none;\n",
              "      fill: #1967D2;\n",
              "      height: 32px;\n",
              "      padding: 0 0 0 0;\n",
              "      width: 32px;\n",
              "    }\n",
              "\n",
              "    .colab-df-convert:hover {\n",
              "      background-color: #E2EBFA;\n",
              "      box-shadow: 0px 1px 2px rgba(60, 64, 67, 0.3), 0px 1px 3px 1px rgba(60, 64, 67, 0.15);\n",
              "      fill: #174EA6;\n",
              "    }\n",
              "\n",
              "    .colab-df-buttons div {\n",
              "      margin-bottom: 4px;\n",
              "    }\n",
              "\n",
              "    [theme=dark] .colab-df-convert {\n",
              "      background-color: #3B4455;\n",
              "      fill: #D2E3FC;\n",
              "    }\n",
              "\n",
              "    [theme=dark] .colab-df-convert:hover {\n",
              "      background-color: #434B5C;\n",
              "      box-shadow: 0px 1px 3px 1px rgba(0, 0, 0, 0.15);\n",
              "      filter: drop-shadow(0px 1px 2px rgba(0, 0, 0, 0.3));\n",
              "      fill: #FFFFFF;\n",
              "    }\n",
              "  </style>\n",
              "\n",
              "    <script>\n",
              "      const buttonEl =\n",
              "        document.querySelector('#df-aeafd71b-961f-471c-98ad-104445c5a717 button.colab-df-convert');\n",
              "      buttonEl.style.display =\n",
              "        google.colab.kernel.accessAllowed ? 'block' : 'none';\n",
              "\n",
              "      async function convertToInteractive(key) {\n",
              "        const element = document.querySelector('#df-aeafd71b-961f-471c-98ad-104445c5a717');\n",
              "        const dataTable =\n",
              "          await google.colab.kernel.invokeFunction('convertToInteractive',\n",
              "                                                    [key], {});\n",
              "        if (!dataTable) return;\n",
              "\n",
              "        const docLinkHtml = 'Like what you see? Visit the ' +\n",
              "          '<a target=\"_blank\" href=https://colab.research.google.com/notebooks/data_table.ipynb>data table notebook</a>'\n",
              "          + ' to learn more about interactive tables.';\n",
              "        element.innerHTML = '';\n",
              "        dataTable['output_type'] = 'display_data';\n",
              "        await google.colab.output.renderOutput(dataTable, element);\n",
              "        const docLink = document.createElement('div');\n",
              "        docLink.innerHTML = docLinkHtml;\n",
              "        element.appendChild(docLink);\n",
              "      }\n",
              "    </script>\n",
              "  </div>\n",
              "\n",
              "\n",
              "    <div id=\"df-cefaeb99-469c-491a-a580-f81bd4e375ac\">\n",
              "      <button class=\"colab-df-quickchart\" onclick=\"quickchart('df-cefaeb99-469c-491a-a580-f81bd4e375ac')\"\n",
              "                title=\"Suggest charts\"\n",
              "                style=\"display:none;\">\n",
              "\n",
              "<svg xmlns=\"http://www.w3.org/2000/svg\" height=\"24px\"viewBox=\"0 0 24 24\"\n",
              "     width=\"24px\">\n",
              "    <g>\n",
              "        <path d=\"M19 3H5c-1.1 0-2 .9-2 2v14c0 1.1.9 2 2 2h14c1.1 0 2-.9 2-2V5c0-1.1-.9-2-2-2zM9 17H7v-7h2v7zm4 0h-2V7h2v10zm4 0h-2v-4h2v4z\"/>\n",
              "    </g>\n",
              "</svg>\n",
              "      </button>\n",
              "\n",
              "<style>\n",
              "  .colab-df-quickchart {\n",
              "      --bg-color: #E8F0FE;\n",
              "      --fill-color: #1967D2;\n",
              "      --hover-bg-color: #E2EBFA;\n",
              "      --hover-fill-color: #174EA6;\n",
              "      --disabled-fill-color: #AAA;\n",
              "      --disabled-bg-color: #DDD;\n",
              "  }\n",
              "\n",
              "  [theme=dark] .colab-df-quickchart {\n",
              "      --bg-color: #3B4455;\n",
              "      --fill-color: #D2E3FC;\n",
              "      --hover-bg-color: #434B5C;\n",
              "      --hover-fill-color: #FFFFFF;\n",
              "      --disabled-bg-color: #3B4455;\n",
              "      --disabled-fill-color: #666;\n",
              "  }\n",
              "\n",
              "  .colab-df-quickchart {\n",
              "    background-color: var(--bg-color);\n",
              "    border: none;\n",
              "    border-radius: 50%;\n",
              "    cursor: pointer;\n",
              "    display: none;\n",
              "    fill: var(--fill-color);\n",
              "    height: 32px;\n",
              "    padding: 0;\n",
              "    width: 32px;\n",
              "  }\n",
              "\n",
              "  .colab-df-quickchart:hover {\n",
              "    background-color: var(--hover-bg-color);\n",
              "    box-shadow: 0 1px 2px rgba(60, 64, 67, 0.3), 0 1px 3px 1px rgba(60, 64, 67, 0.15);\n",
              "    fill: var(--button-hover-fill-color);\n",
              "  }\n",
              "\n",
              "  .colab-df-quickchart-complete:disabled,\n",
              "  .colab-df-quickchart-complete:disabled:hover {\n",
              "    background-color: var(--disabled-bg-color);\n",
              "    fill: var(--disabled-fill-color);\n",
              "    box-shadow: none;\n",
              "  }\n",
              "\n",
              "  .colab-df-spinner {\n",
              "    border: 2px solid var(--fill-color);\n",
              "    border-color: transparent;\n",
              "    border-bottom-color: var(--fill-color);\n",
              "    animation:\n",
              "      spin 1s steps(1) infinite;\n",
              "  }\n",
              "\n",
              "  @keyframes spin {\n",
              "    0% {\n",
              "      border-color: transparent;\n",
              "      border-bottom-color: var(--fill-color);\n",
              "      border-left-color: var(--fill-color);\n",
              "    }\n",
              "    20% {\n",
              "      border-color: transparent;\n",
              "      border-left-color: var(--fill-color);\n",
              "      border-top-color: var(--fill-color);\n",
              "    }\n",
              "    30% {\n",
              "      border-color: transparent;\n",
              "      border-left-color: var(--fill-color);\n",
              "      border-top-color: var(--fill-color);\n",
              "      border-right-color: var(--fill-color);\n",
              "    }\n",
              "    40% {\n",
              "      border-color: transparent;\n",
              "      border-right-color: var(--fill-color);\n",
              "      border-top-color: var(--fill-color);\n",
              "    }\n",
              "    60% {\n",
              "      border-color: transparent;\n",
              "      border-right-color: var(--fill-color);\n",
              "    }\n",
              "    80% {\n",
              "      border-color: transparent;\n",
              "      border-right-color: var(--fill-color);\n",
              "      border-bottom-color: var(--fill-color);\n",
              "    }\n",
              "    90% {\n",
              "      border-color: transparent;\n",
              "      border-bottom-color: var(--fill-color);\n",
              "    }\n",
              "  }\n",
              "</style>\n",
              "\n",
              "      <script>\n",
              "        async function quickchart(key) {\n",
              "          const quickchartButtonEl =\n",
              "            document.querySelector('#' + key + ' button');\n",
              "          quickchartButtonEl.disabled = true;  // To prevent multiple clicks.\n",
              "          quickchartButtonEl.classList.add('colab-df-spinner');\n",
              "          try {\n",
              "            const charts = await google.colab.kernel.invokeFunction(\n",
              "                'suggestCharts', [key], {});\n",
              "          } catch (error) {\n",
              "            console.error('Error during call to suggestCharts:', error);\n",
              "          }\n",
              "          quickchartButtonEl.classList.remove('colab-df-spinner');\n",
              "          quickchartButtonEl.classList.add('colab-df-quickchart-complete');\n",
              "        }\n",
              "        (() => {\n",
              "          let quickchartButtonEl =\n",
              "            document.querySelector('#df-cefaeb99-469c-491a-a580-f81bd4e375ac button');\n",
              "          quickchartButtonEl.style.display =\n",
              "            google.colab.kernel.accessAllowed ? 'block' : 'none';\n",
              "        })();\n",
              "      </script>\n",
              "    </div>\n",
              "\n",
              "    </div>\n",
              "  </div>\n"
            ],
            "application/vnd.google.colaboratory.intrinsic+json": {
              "type": "dataframe",
              "variable_name": "combined_data",
              "summary": "{\n  \"name\": \"combined_data\",\n  \"rows\": 23858,\n  \"fields\": [\n    {\n      \"column\": \"listing_id\",\n      \"properties\": {\n        \"dtype\": \"number\",\n        \"std\": 11006905,\n        \"min\": 2595,\n        \"max\": 36455809,\n        \"num_unique_values\": 23858,\n        \"samples\": [\n          26877259,\n          15379480,\n          16603823\n        ],\n        \"semantic_type\": \"\",\n        \"description\": \"\"\n      }\n    },\n    {\n      \"column\": \"price\",\n      \"properties\": {\n        \"dtype\": \"number\",\n        \"std\": 67.21457399936209,\n        \"min\": 10.0,\n        \"max\": 334.0,\n        \"num_unique_values\": 310,\n        \"samples\": [\n          321.0,\n          99.0,\n          196.0\n        ],\n        \"semantic_type\": \"\",\n        \"description\": \"\"\n      }\n    },\n    {\n      \"column\": \"nbhood_full\",\n      \"properties\": {\n        \"dtype\": \"category\",\n        \"num_unique_values\": 217,\n        \"samples\": [\n          \"Bronx, Unionport\",\n          \"Staten Island, Bay Terrace, Staten Island\",\n          \"Queens, Bellerose\"\n        ],\n        \"semantic_type\": \"\",\n        \"description\": \"\"\n      }\n    },\n    {\n      \"column\": \"borough\",\n      \"properties\": {\n        \"dtype\": \"category\",\n        \"num_unique_values\": 5,\n        \"samples\": [\n          \"Brooklyn\",\n          \"Bronx\",\n          \"Queens\"\n        ],\n        \"semantic_type\": \"\",\n        \"description\": \"\"\n      }\n    },\n    {\n      \"column\": \"description\",\n      \"properties\": {\n        \"dtype\": \"string\",\n        \"num_unique_values\": 23612,\n        \"samples\": [\n          \"A Quiet Room in Greenpoint\",\n          \"Bright and lovely 1 bdrm apt in LES\",\n          \"Cozy room with nice view.(20mn to Times Square).\"\n        ],\n        \"semantic_type\": \"\",\n        \"description\": \"\"\n      }\n    },\n    {\n      \"column\": \"room_type\",\n      \"properties\": {\n        \"dtype\": \"category\",\n        \"num_unique_values\": 3,\n        \"samples\": [\n          \"entire home/apt\",\n          \"private room\",\n          \"shared room\"\n        ],\n        \"semantic_type\": \"\",\n        \"description\": \"\"\n      }\n    },\n    {\n      \"column\": \"host_name\",\n      \"properties\": {\n        \"dtype\": \"category\",\n        \"num_unique_values\": 7102,\n        \"samples\": [\n          \"Brigitte\",\n          \"H&E\",\n          \"Nydia\"\n        ],\n        \"semantic_type\": \"\",\n        \"description\": \"\"\n      }\n    },\n    {\n      \"column\": \"last_review\",\n      \"properties\": {\n        \"dtype\": \"date\",\n        \"min\": \"2019-01-01 00:00:00\",\n        \"max\": \"2019-07-09 00:00:00\",\n        \"num_unique_values\": 190,\n        \"samples\": [\n          \"2019-03-03 00:00:00\",\n          \"2019-01-16 00:00:00\",\n          \"2019-05-05 00:00:00\"\n        ],\n        \"semantic_type\": \"\",\n        \"description\": \"\"\n      }\n    },\n    {\n      \"column\": \"year\",\n      \"properties\": {\n        \"dtype\": \"int32\",\n        \"num_unique_values\": 1,\n        \"samples\": [\n          2019\n        ],\n        \"semantic_type\": \"\",\n        \"description\": \"\"\n      }\n    },\n    {\n      \"column\": \"month\",\n      \"properties\": {\n        \"dtype\": \"int32\",\n        \"num_unique_values\": 7,\n        \"samples\": [\n          5\n        ],\n        \"semantic_type\": \"\",\n        \"description\": \"\"\n      }\n    },\n    {\n      \"column\": \"season\",\n      \"properties\": {\n        \"dtype\": \"category\",\n        \"num_unique_values\": 3,\n        \"samples\": [\n          \"Spring\"\n        ],\n        \"semantic_type\": \"\",\n        \"description\": \"\"\n      }\n    }\n  ]\n}"
            }
          },
          "metadata": {},
          "execution_count": 18
        }
      ]
    },
    {
      "cell_type": "markdown",
      "source": [
        "**Calculating average price**"
      ],
      "metadata": {
        "id": "GRELzXk8I_7U"
      }
    },
    {
      "cell_type": "code",
      "source": [
        "# Calculate the average price and round to nearest 2 decimal places, avg_price\n",
        "avg_price = round(combined_data[\"price\"].mean(),2)\n",
        "# Print the average price\n",
        "print(\"The average price per night for an Airbnb listing in NYC is ${}.\".format(avg_price))"
      ],
      "metadata": {
        "colab": {
          "base_uri": "https://localhost:8080/",
          "height": 0
        },
        "id": "1cVCzeL0JEH6",
        "outputId": "346e3005-a55d-4535-91fc-21af61476ddd"
      },
      "execution_count": 19,
      "outputs": [
        {
          "output_type": "stream",
          "name": "stdout",
          "text": [
            "The average price per night for an Airbnb listing in NYC is $119.21.\n"
          ]
        }
      ]
    },
    {
      "cell_type": "markdown",
      "source": [
        "**Comparing costs to the private rental market**\n",
        "\n",
        "Now we know how much a listing costs, on average, per night, but it would be useful to have a benchmark for comparison. According to Zumper, a 1 bedroom apartment in New York City costs, on average, $3,100 per month. Let's convert the per night prices of our listings into monthly costs, so we can compare to the private market."
      ],
      "metadata": {
        "id": "q8Ces5qKJ0x2"
      }
    },
    {
      "cell_type": "code",
      "source": [
        "# Add a new column to the prices DataFrame, price_per_month\n",
        "combined_data['price_per_month'] = combined_data['price'] * 365 / 12\n",
        "\n",
        "# Calculate average_price_per_month\n",
        "average_price_per_month = round(combined_data['price_per_month'].mean(),2)\n",
        "# Compare Airbnb and rental market\n",
        "print(\"Airbnb monthly costs are ${}, while in the private market you would pay {}.\"\\\n",
        "      .format(average_price_per_month, \"$3,100.00\"))"
      ],
      "metadata": {
        "colab": {
          "base_uri": "https://localhost:8080/",
          "height": 0
        },
        "id": "WkfGXN8cJ40V",
        "outputId": "0685e0d1-501d-4027-f4c9-be2e2a6ff308"
      },
      "execution_count": 20,
      "outputs": [
        {
          "output_type": "stream",
          "name": "stdout",
          "text": [
            "Airbnb monthly costs are $3625.94, while in the private market you would pay $3,100.00.\n"
          ]
        }
      ]
    },
    {
      "cell_type": "markdown",
      "source": [
        "Unsurprisingly, using Airbnb appears to be substantially more expensive than the private rental market. We should, however, consider that these Airbnb listings include single private rooms or even rooms to share, as well as entire homes/apartments.\n"
      ],
      "metadata": {
        "id": "ZEehXq-eKI8Y"
      }
    },
    {
      "cell_type": "markdown",
      "source": [
        "**What timeframe are we working with?**\n",
        "\n",
        "It seems there is a fairly similar sized market opportunity for both private rooms (45% of listings) and entire homes/apartments (52%) on the Airbnb platform in NYC.\n",
        "\n",
        "\n",
        "Now let's turn our attention to the reviews DataFrame. The last_review column contains the date of the last review in the format of \"Month Day Year\" e.g., May 21 2019. We've been asked to find out the earliest and latest review dates in the DataFrame, and ensure the format allows this analysis to be easily conducted going forwards."
      ],
      "metadata": {
        "id": "pSmJbIGuKKg0"
      }
    },
    {
      "cell_type": "code",
      "source": [
        "# Create first_reviewed, the earliest review date\n",
        "first_reviewed = combined_data[\"last_review\"].dt.date.min()\n",
        "\n",
        "# Create last_reviewed, the most recent review date\n",
        "last_reviewed = combined_data[\"last_review\"].dt.date.max()\n",
        "\n",
        "# Print the oldest and newest reviews from the DataFrame\n",
        "print(\"The latest Airbnb review is {}, the earliest review is {}\".format(last_reviewed, first_reviewed))"
      ],
      "metadata": {
        "colab": {
          "base_uri": "https://localhost:8080/",
          "height": 0
        },
        "id": "a619svPlKQ4f",
        "outputId": "a6175a6a-662c-4413-b83e-00297d0a9bc0"
      },
      "execution_count": 21,
      "outputs": [
        {
          "output_type": "stream",
          "name": "stdout",
          "text": [
            "The latest Airbnb review is 2019-07-09, the earliest review is 2019-01-01\n"
          ]
        }
      ]
    },
    {
      "cell_type": "markdown",
      "source": [
        "**Analyzing listing prices by NYC borough**\n",
        "\n",
        "Now we have combined all data into a single DataFrame, we will turn our attention to understanding the difference in listing prices between New York City boroughs."
      ],
      "metadata": {
        "id": "Q65bgg46KoQb"
      }
    },
    {
      "cell_type": "code",
      "source": [
        "# Group by borough and calculate summary statistics\n",
        "boroughs = combined_data.groupby(\"borough\")[\"price\"].agg([\"sum\", \"mean\", \"median\", \"count\"])\n",
        "\n",
        "# Round boroughs to 2 decimal places, and sort by mean in descending order\n",
        "boroughs = boroughs.round(2).sort_values(\"mean\", ascending=False)\n",
        "\n",
        "# Print boroughs\n",
        "print(boroughs)\n",
        "\n",
        "plt.figure(figsize=(12, 8))\n",
        "sns.barplot(data=boroughs.reset_index(), x='borough', y='mean')\n",
        "plt.title('Average Price of Airbnb Listings by Borough')\n",
        "plt.xlabel('Borough')\n",
        "plt.ylabel('Average Price')\n",
        "plt.show()"
      ],
      "metadata": {
        "colab": {
          "base_uri": "https://localhost:8080/",
          "height": 768
        },
        "id": "qSUHfSIRKzrW",
        "outputId": "7e732ca9-e842-469f-ffe3-e1bdeb5c2819"
      },
      "execution_count": 22,
      "outputs": [
        {
          "output_type": "stream",
          "name": "stdout",
          "text": [
            "                     sum    mean  median  count\n",
            "borough                                        \n",
            "Manhattan      1363929.0  145.75   135.0   9358\n",
            "Brooklyn       1102387.0  108.88    95.0  10125\n",
            "Queens          302324.0   88.45    70.0   3418\n",
            "Staten Island    22974.0   86.04    71.0    267\n",
            "Bronx            52477.0   76.05    64.0    690\n"
          ]
        },
        {
          "output_type": "display_data",
          "data": {
            "text/plain": [
              "<Figure size 1200x800 with 1 Axes>"
            ],
            "image/png": "[encoded data removed]"
          },
          "metadata": {}
        }
      ]
    },
    {
      "cell_type": "markdown",
      "source": [
        "**Price Range Analysis**\n",
        "\n",
        "The above output gives us a summary of prices for listings across the 5 boroughs. In this final task we would like to categorize listings based on whether they fall into specific price ranges, and view this by borough.\n",
        "\n",
        "We can do this using percentiles and labels to create a new column, price_range, in the DataFrame. Once we have created the labels, we can then group the data and count frequencies for listings in each price range by borough.\n",
        "\n",
        "We will assign the following categories and price ranges:\n",
        "\n",
        "| label | Price in $ |  \n",
        "|----------|----------|\n",
        "| Budget | 0-69 |\n",
        "| Average | 70-175 |\n",
        "| Expensive | 176-350 |\n",
        "| Extravagant | > 350 |\n",
        "\n",
        "\n",
        "\n",
        "\n",
        "\n",
        ""
      ],
      "metadata": {
        "id": "VMTBXOOWK9fL"
      }
    },
    {
      "cell_type": "code",
      "source": [
        "# Create labels for the price range, label_names\n",
        "label_names = [\"Budget\", \"Average\", \"Expensive\", \"Extravagant\"]\n",
        "\n",
        "# Create the label ranges, ranges\n",
        "ranges = [0, 69, 175, 350, np.inf]\n",
        "\n",
        "# Insert new column, price_range, into DataFrame\n",
        "# Use `pd.cut` to segment and sort data values into bins\n",
        "# Useful for going from a continuous variable to a categorical variable\n",
        "combined_data[\"price_range\"] = pd.cut(combined_data[\"price\"], bins=ranges, labels=label_names)\n",
        "\n",
        "# Calculate borough and price_range frequencies, prices_by_borough\n",
        "prices_by_borough = combined_data.groupby([\"borough\", \"price_range\"])[\"price_range\"].agg(\"count\").unstack().fillna(0)\n",
        "print(prices_by_borough)\n",
        "\n",
        "prices_by_borough.plot(kind='bar', stacked=True, figsize=(14, 7))\n",
        "plt.title('Distribution of Price Ranges by Borough')\n",
        "plt.xlabel('Borough')\n",
        "plt.ylabel('Count')\n",
        "plt.show()"
      ],
      "metadata": {
        "colab": {
          "base_uri": "https://localhost:8080/",
          "height": 731
        },
        "id": "eM47pEu2M6q1",
        "outputId": "69a7247a-bc85-43b6-d91b-c4d9a337bcbc"
      },
      "execution_count": 24,
      "outputs": [
        {
          "output_type": "stream",
          "name": "stderr",
          "text": [
            "/tmp/ipython-input-105845598.py:13: FutureWarning: The default of observed=False is deprecated and will be changed to True in a future version of pandas. Pass observed=False to retain current behavior or observed=True to adopt the future default and silence this warning.\n",
            "  prices_by_borough = combined_data.groupby([\"borough\", \"price_range\"])[\"price_range\"].agg(\"count\").unstack().fillna(0)\n"
          ]
        },
        {
          "output_type": "stream",
          "name": "stdout",
          "text": [
            "price_range    Budget  Average  Expensive  Extravagant\n",
            "borough                                               \n",
            "Bronx             381      285         24            0\n",
            "Brooklyn         3194     5532       1399            0\n",
            "Manhattan        1148     5285       2925            0\n",
            "Queens           1631     1505        282            0\n",
            "Staten Island     124      123         20            0\n"
          ]
        },
        {
          "output_type": "display_data",
          "data": {
            "text/plain": [
              "<Figure size 1400x700 with 1 Axes>"
            ],
            "image/png": "[encoded data removed]"
          },
          "metadata": {}
        }
      ]
    },
    {
      "cell_type": "markdown",
      "source": [
        "**Summary and Conclusion**\n",
        "\n",
        "*Summary of Findings*\n",
        "\n",
        "1. **Average Price of an Airbnb Listing in NYC:**\n",
        "*   The average price varies significantly across different boroughs.   \n",
        "*   The overall distribution shows a high frequency of lower-priced listings, with some high-priced outliers.\n",
        "2. **Price Comparison Across Boroughs:**\n",
        "*   Manhattan has the highest average price, followed by Brooklyn.\n",
        "*   Other boroughs like Queens, Bronx, and Staten Island have relatively lower average prices.\n",
        "\n",
        "3. **Room Type Distribution:**\n",
        "*   Most listings are entire homes/apartments, followed by private rooms.\n",
        "*   Shared rooms and hotel rooms constitute a smaller portion of listings.\n",
        "4. **Price Range Distribution by Borough:**\n",
        "\n",
        "*   Manhattan has a higher concentration of expensive and extravagant listings.\n",
        "*   Other boroughs have a higher proportion of budget and average listings.\n",
        "\n",
        "**Conclusion**\n",
        "\n",
        "This analysis provides a comprehensive overview of the Airbnb market in NYC, highlighting significant differences in prices and types of listings across boroughs. Future work could explore seasonal trends and the impact of external factors on Airbnb pricing."
      ],
      "metadata": {
        "id": "IRV-oCdGNJfX"
      }
    }
  ]
}